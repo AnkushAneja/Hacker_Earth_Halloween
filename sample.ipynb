{
 "cells": [
  {
   "cell_type": "code",
   "execution_count": 185,
   "metadata": {
    "execution": {
     "iopub.execute_input": "2020-11-17T11:51:55.821304Z",
     "iopub.status.busy": "2020-11-17T11:51:55.820205Z",
     "iopub.status.idle": "2020-11-17T11:51:55.823458Z",
     "shell.execute_reply": "2020-11-17T11:51:55.822697Z"
    },
    "papermill": {
     "duration": 0.037015,
     "end_time": "2020-11-17T11:51:55.823587",
     "exception": false,
     "start_time": "2020-11-17T11:51:55.786572",
     "status": "completed"
    },
    "tags": []
   },
   "outputs": [],
   "source": [
    "import pandas as pd\n",
    "import matplotlib.pyplot as plt\n",
    "import numpy as np"
   ]
  },
  {
   "cell_type": "code",
   "execution_count": 186,
   "metadata": {
    "execution": {
     "iopub.execute_input": "2020-11-17T11:51:55.887037Z",
     "iopub.status.busy": "2020-11-17T11:51:55.886312Z",
     "iopub.status.idle": "2020-11-17T11:51:55.923591Z",
     "shell.execute_reply": "2020-11-17T11:51:55.922777Z"
    },
    "papermill": {
     "duration": 0.072537,
     "end_time": "2020-11-17T11:51:55.923726",
     "exception": false,
     "start_time": "2020-11-17T11:51:55.851189",
     "status": "completed"
    },
    "tags": []
   },
   "outputs": [],
   "source": [
    "train_data = pd.read_csv('Datasets/dataset/train.csv')"
   ]
  },
  {
   "cell_type": "code",
   "execution_count": 187,
   "metadata": {
    "execution": {
     "iopub.execute_input": "2020-11-17T11:51:56.002638Z",
     "iopub.status.busy": "2020-11-17T11:51:56.001818Z",
     "iopub.status.idle": "2020-11-17T11:51:56.018177Z",
     "shell.execute_reply": "2020-11-17T11:51:56.018825Z"
    },
    "papermill": {
     "duration": 0.067239,
     "end_time": "2020-11-17T11:51:56.019000",
     "exception": false,
     "start_time": "2020-11-17T11:51:55.951761",
     "status": "completed"
    },
    "tags": []
   },
   "outputs": [
    {
     "data": {
      "text/html": [
       "<div>\n",
       "<style scoped>\n",
       "    .dataframe tbody tr th:only-of-type {\n",
       "        vertical-align: middle;\n",
       "    }\n",
       "\n",
       "    .dataframe tbody tr th {\n",
       "        vertical-align: top;\n",
       "    }\n",
       "\n",
       "    .dataframe thead th {\n",
       "        text-align: right;\n",
       "    }\n",
       "</style>\n",
       "<table border=\"1\" class=\"dataframe\">\n",
       "  <thead>\n",
       "    <tr style=\"text-align: right;\">\n",
       "      <th></th>\n",
       "      <th>Product_id</th>\n",
       "      <th>Stall_no</th>\n",
       "      <th>instock_date</th>\n",
       "      <th>Market_Category</th>\n",
       "      <th>Customer_name</th>\n",
       "      <th>Loyalty_customer</th>\n",
       "      <th>Product_Category</th>\n",
       "      <th>Grade</th>\n",
       "      <th>Demand</th>\n",
       "      <th>Discount_avail</th>\n",
       "      <th>charges_1</th>\n",
       "      <th>charges_2 (%)</th>\n",
       "      <th>Minimum_price</th>\n",
       "      <th>Maximum_price</th>\n",
       "      <th>Selling_Price</th>\n",
       "    </tr>\n",
       "  </thead>\n",
       "  <tbody>\n",
       "    <tr>\n",
       "      <th>0</th>\n",
       "      <td>BRAE2NF6JA5GUEXG</td>\n",
       "      <td>37.0</td>\n",
       "      <td>2015-08-22 18:36:12.000</td>\n",
       "      <td>2</td>\n",
       "      <td>Lillyann</td>\n",
       "      <td>Yes</td>\n",
       "      <td>Fashion</td>\n",
       "      <td>1</td>\n",
       "      <td>68</td>\n",
       "      <td>0.0</td>\n",
       "      <td>376.0</td>\n",
       "      <td>11.0</td>\n",
       "      <td>2983.0</td>\n",
       "      <td>4713.0</td>\n",
       "      <td>4185.947700</td>\n",
       "    </tr>\n",
       "    <tr>\n",
       "      <th>1</th>\n",
       "      <td>TUNE8SFB6RJN2HSD</td>\n",
       "      <td>38.0</td>\n",
       "      <td>2016-03-27 21:19:13.000</td>\n",
       "      <td>24</td>\n",
       "      <td>Klynn</td>\n",
       "      <td>Yes</td>\n",
       "      <td>Fashion</td>\n",
       "      <td>0</td>\n",
       "      <td>51</td>\n",
       "      <td>0.0</td>\n",
       "      <td>397.0</td>\n",
       "      <td>12.0</td>\n",
       "      <td>7495.0</td>\n",
       "      <td>10352.0</td>\n",
       "      <td>9271.490256</td>\n",
       "    </tr>\n",
       "    <tr>\n",
       "      <th>2</th>\n",
       "      <td>BRAEAR7WZPQGPBZU</td>\n",
       "      <td>9.0</td>\n",
       "      <td>2015-08-18 19:25:22.000</td>\n",
       "      <td>447</td>\n",
       "      <td>Ridge</td>\n",
       "      <td>Yes</td>\n",
       "      <td>Child_care</td>\n",
       "      <td>0</td>\n",
       "      <td>10</td>\n",
       "      <td>0.0</td>\n",
       "      <td>250.0</td>\n",
       "      <td>9.0</td>\n",
       "      <td>5752.0</td>\n",
       "      <td>7309.0</td>\n",
       "      <td>6785.701362</td>\n",
       "    </tr>\n",
       "    <tr>\n",
       "      <th>3</th>\n",
       "      <td>WATDZ2ZQ8JPDHCTJ</td>\n",
       "      <td>50.0</td>\n",
       "      <td>2016-03-28 21:53:01.000</td>\n",
       "      <td>23</td>\n",
       "      <td>Abran</td>\n",
       "      <td>Yes</td>\n",
       "      <td>Educational</td>\n",
       "      <td>2</td>\n",
       "      <td>48</td>\n",
       "      <td>0.0</td>\n",
       "      <td>144.0</td>\n",
       "      <td>13.0</td>\n",
       "      <td>5090.0</td>\n",
       "      <td>20814.0</td>\n",
       "      <td>13028.917824</td>\n",
       "    </tr>\n",
       "    <tr>\n",
       "      <th>4</th>\n",
       "      <td>JWSEBUKYQPMBZ3RK</td>\n",
       "      <td>7.0</td>\n",
       "      <td>2016-03-29 22:58:53.000</td>\n",
       "      <td>63</td>\n",
       "      <td>Dustyn</td>\n",
       "      <td>Yes</td>\n",
       "      <td>Repair</td>\n",
       "      <td>1</td>\n",
       "      <td>35</td>\n",
       "      <td>1.0</td>\n",
       "      <td>211.0</td>\n",
       "      <td>4.0</td>\n",
       "      <td>2430.0</td>\n",
       "      <td>9261.0</td>\n",
       "      <td>906.553935</td>\n",
       "    </tr>\n",
       "  </tbody>\n",
       "</table>\n",
       "</div>"
      ],
      "text/plain": [
       "         Product_id  Stall_no             instock_date  Market_Category  \\\n",
       "0  BRAE2NF6JA5GUEXG      37.0  2015-08-22 18:36:12.000                2   \n",
       "1  TUNE8SFB6RJN2HSD      38.0  2016-03-27 21:19:13.000               24   \n",
       "2  BRAEAR7WZPQGPBZU       9.0  2015-08-18 19:25:22.000              447   \n",
       "3  WATDZ2ZQ8JPDHCTJ      50.0  2016-03-28 21:53:01.000               23   \n",
       "4  JWSEBUKYQPMBZ3RK       7.0  2016-03-29 22:58:53.000               63   \n",
       "\n",
       "  Customer_name Loyalty_customer Product_Category  Grade  Demand  \\\n",
       "0      Lillyann              Yes          Fashion      1      68   \n",
       "1         Klynn              Yes          Fashion      0      51   \n",
       "2         Ridge              Yes       Child_care      0      10   \n",
       "3         Abran              Yes      Educational      2      48   \n",
       "4        Dustyn              Yes           Repair      1      35   \n",
       "\n",
       "   Discount_avail  charges_1  charges_2 (%)  Minimum_price  Maximum_price  \\\n",
       "0             0.0      376.0           11.0         2983.0         4713.0   \n",
       "1             0.0      397.0           12.0         7495.0        10352.0   \n",
       "2             0.0      250.0            9.0         5752.0         7309.0   \n",
       "3             0.0      144.0           13.0         5090.0        20814.0   \n",
       "4             1.0      211.0            4.0         2430.0         9261.0   \n",
       "\n",
       "   Selling_Price  \n",
       "0    4185.947700  \n",
       "1    9271.490256  \n",
       "2    6785.701362  \n",
       "3   13028.917824  \n",
       "4     906.553935  "
      ]
     },
     "execution_count": 187,
     "metadata": {},
     "output_type": "execute_result"
    }
   ],
   "source": [
    "train_data.head()"
   ]
  },
  {
   "cell_type": "code",
   "execution_count": 188,
   "metadata": {
    "execution": {
     "iopub.execute_input": "2020-11-17T11:51:56.088949Z",
     "iopub.status.busy": "2020-11-17T11:51:56.088156Z",
     "iopub.status.idle": "2020-11-17T11:51:56.094764Z",
     "shell.execute_reply": "2020-11-17T11:51:56.095304Z"
    },
    "papermill": {
     "duration": 0.044432,
     "end_time": "2020-11-17T11:51:56.095459",
     "exception": false,
     "start_time": "2020-11-17T11:51:56.051027",
     "status": "completed"
    },
    "tags": []
   },
   "outputs": [
    {
     "data": {
      "text/plain": [
       "Product_id            0\n",
       "Stall_no              5\n",
       "instock_date          0\n",
       "Market_Category       0\n",
       "Customer_name       211\n",
       "Loyalty_customer      0\n",
       "Product_Category      0\n",
       "Grade                 0\n",
       "Demand                0\n",
       "Discount_avail       38\n",
       "charges_1           198\n",
       "charges_2 (%)       205\n",
       "Minimum_price        38\n",
       "Maximum_price       343\n",
       "Selling_Price        41\n",
       "dtype: int64"
      ]
     },
     "execution_count": 188,
     "metadata": {},
     "output_type": "execute_result"
    }
   ],
   "source": [
    "train_data.isnull().sum()"
   ]
  },
  {
   "cell_type": "code",
   "execution_count": 189,
   "metadata": {
    "execution": {
     "iopub.execute_input": "2020-11-17T11:51:56.191843Z",
     "iopub.status.busy": "2020-11-17T11:51:56.190666Z",
     "iopub.status.idle": "2020-11-17T11:51:56.195838Z",
     "shell.execute_reply": "2020-11-17T11:51:56.195118Z"
    },
    "papermill": {
     "duration": 0.070929,
     "end_time": "2020-11-17T11:51:56.195961",
     "exception": false,
     "start_time": "2020-11-17T11:51:56.125032",
     "status": "completed"
    },
    "tags": []
   },
   "outputs": [
    {
     "data": {
      "text/html": [
       "<div>\n",
       "<style scoped>\n",
       "    .dataframe tbody tr th:only-of-type {\n",
       "        vertical-align: middle;\n",
       "    }\n",
       "\n",
       "    .dataframe tbody tr th {\n",
       "        vertical-align: top;\n",
       "    }\n",
       "\n",
       "    .dataframe thead th {\n",
       "        text-align: right;\n",
       "    }\n",
       "</style>\n",
       "<table border=\"1\" class=\"dataframe\">\n",
       "  <thead>\n",
       "    <tr style=\"text-align: right;\">\n",
       "      <th></th>\n",
       "      <th>Product_id</th>\n",
       "      <th>Stall_no</th>\n",
       "      <th>instock_date</th>\n",
       "      <th>Market_Category</th>\n",
       "      <th>Customer_name</th>\n",
       "      <th>Loyalty_customer</th>\n",
       "      <th>Product_Category</th>\n",
       "      <th>Grade</th>\n",
       "      <th>Demand</th>\n",
       "      <th>Discount_avail</th>\n",
       "      <th>charges_1</th>\n",
       "      <th>charges_2 (%)</th>\n",
       "      <th>Minimum_price</th>\n",
       "      <th>Maximum_price</th>\n",
       "      <th>Selling_Price</th>\n",
       "    </tr>\n",
       "  </thead>\n",
       "  <tbody>\n",
       "    <tr>\n",
       "      <th>0</th>\n",
       "      <td>BRAE2NF6JA5GUEXG</td>\n",
       "      <td>37.0</td>\n",
       "      <td>2015-08-22 18:36:12.000</td>\n",
       "      <td>2</td>\n",
       "      <td>Lillyann</td>\n",
       "      <td>Yes</td>\n",
       "      <td>Fashion</td>\n",
       "      <td>1</td>\n",
       "      <td>68</td>\n",
       "      <td>0.0</td>\n",
       "      <td>376.0</td>\n",
       "      <td>11.0</td>\n",
       "      <td>2983.0</td>\n",
       "      <td>4713.0</td>\n",
       "      <td>4185.947700</td>\n",
       "    </tr>\n",
       "    <tr>\n",
       "      <th>1</th>\n",
       "      <td>TUNE8SFB6RJN2HSD</td>\n",
       "      <td>38.0</td>\n",
       "      <td>2016-03-27 21:19:13.000</td>\n",
       "      <td>24</td>\n",
       "      <td>Klynn</td>\n",
       "      <td>Yes</td>\n",
       "      <td>Fashion</td>\n",
       "      <td>0</td>\n",
       "      <td>51</td>\n",
       "      <td>0.0</td>\n",
       "      <td>397.0</td>\n",
       "      <td>12.0</td>\n",
       "      <td>7495.0</td>\n",
       "      <td>10352.0</td>\n",
       "      <td>9271.490256</td>\n",
       "    </tr>\n",
       "    <tr>\n",
       "      <th>2</th>\n",
       "      <td>BRAEAR7WZPQGPBZU</td>\n",
       "      <td>9.0</td>\n",
       "      <td>2015-08-18 19:25:22.000</td>\n",
       "      <td>447</td>\n",
       "      <td>Ridge</td>\n",
       "      <td>Yes</td>\n",
       "      <td>Child_care</td>\n",
       "      <td>0</td>\n",
       "      <td>10</td>\n",
       "      <td>0.0</td>\n",
       "      <td>250.0</td>\n",
       "      <td>9.0</td>\n",
       "      <td>5752.0</td>\n",
       "      <td>7309.0</td>\n",
       "      <td>6785.701362</td>\n",
       "    </tr>\n",
       "    <tr>\n",
       "      <th>3</th>\n",
       "      <td>WATDZ2ZQ8JPDHCTJ</td>\n",
       "      <td>50.0</td>\n",
       "      <td>2016-03-28 21:53:01.000</td>\n",
       "      <td>23</td>\n",
       "      <td>Abran</td>\n",
       "      <td>Yes</td>\n",
       "      <td>Educational</td>\n",
       "      <td>2</td>\n",
       "      <td>48</td>\n",
       "      <td>0.0</td>\n",
       "      <td>144.0</td>\n",
       "      <td>13.0</td>\n",
       "      <td>5090.0</td>\n",
       "      <td>20814.0</td>\n",
       "      <td>13028.917824</td>\n",
       "    </tr>\n",
       "    <tr>\n",
       "      <th>4</th>\n",
       "      <td>JWSEBUKYQPMBZ3RK</td>\n",
       "      <td>7.0</td>\n",
       "      <td>2016-03-29 22:58:53.000</td>\n",
       "      <td>63</td>\n",
       "      <td>Dustyn</td>\n",
       "      <td>Yes</td>\n",
       "      <td>Repair</td>\n",
       "      <td>1</td>\n",
       "      <td>35</td>\n",
       "      <td>1.0</td>\n",
       "      <td>211.0</td>\n",
       "      <td>4.0</td>\n",
       "      <td>2430.0</td>\n",
       "      <td>9261.0</td>\n",
       "      <td>906.553935</td>\n",
       "    </tr>\n",
       "  </tbody>\n",
       "</table>\n",
       "</div>"
      ],
      "text/plain": [
       "         Product_id  Stall_no             instock_date  Market_Category  \\\n",
       "0  BRAE2NF6JA5GUEXG      37.0  2015-08-22 18:36:12.000                2   \n",
       "1  TUNE8SFB6RJN2HSD      38.0  2016-03-27 21:19:13.000               24   \n",
       "2  BRAEAR7WZPQGPBZU       9.0  2015-08-18 19:25:22.000              447   \n",
       "3  WATDZ2ZQ8JPDHCTJ      50.0  2016-03-28 21:53:01.000               23   \n",
       "4  JWSEBUKYQPMBZ3RK       7.0  2016-03-29 22:58:53.000               63   \n",
       "\n",
       "  Customer_name Loyalty_customer Product_Category  Grade  Demand  \\\n",
       "0      Lillyann              Yes          Fashion      1      68   \n",
       "1         Klynn              Yes          Fashion      0      51   \n",
       "2         Ridge              Yes       Child_care      0      10   \n",
       "3         Abran              Yes      Educational      2      48   \n",
       "4        Dustyn              Yes           Repair      1      35   \n",
       "\n",
       "   Discount_avail  charges_1  charges_2 (%)  Minimum_price  Maximum_price  \\\n",
       "0             0.0      376.0           11.0         2983.0         4713.0   \n",
       "1             0.0      397.0           12.0         7495.0        10352.0   \n",
       "2             0.0      250.0            9.0         5752.0         7309.0   \n",
       "3             0.0      144.0           13.0         5090.0        20814.0   \n",
       "4             1.0      211.0            4.0         2430.0         9261.0   \n",
       "\n",
       "   Selling_Price  \n",
       "0    4185.947700  \n",
       "1    9271.490256  \n",
       "2    6785.701362  \n",
       "3   13028.917824  \n",
       "4     906.553935  "
      ]
     },
     "execution_count": 189,
     "metadata": {},
     "output_type": "execute_result"
    }
   ],
   "source": [
    "train_data.head()"
   ]
  },
  {
   "cell_type": "code",
   "execution_count": 190,
   "metadata": {
    "execution": {
     "iopub.execute_input": "2020-11-17T11:51:56.265901Z",
     "iopub.status.busy": "2020-11-17T11:51:56.264425Z",
     "iopub.status.idle": "2020-11-17T11:51:56.273429Z",
     "shell.execute_reply": "2020-11-17T11:51:56.272818Z"
    },
    "papermill": {
     "duration": 0.047813,
     "end_time": "2020-11-17T11:51:56.273553",
     "exception": false,
     "start_time": "2020-11-17T11:51:56.225740",
     "status": "completed"
    },
    "tags": []
   },
   "outputs": [
    {
     "data": {
      "text/plain": [
       "\"train_data['Stall_no'] = train_data['Stall_no'].fillna(train_data['Stall_no'].mean())\\ntrain_data['Discount_avail'] = train_data['Discount_avail'].fillna(train_data['Discount_avail'].mean())\\ntrain_data['charges_1'] = train_data['charges_1'].fillna(train_data['charges_1'].mean())\\ntrain_data['charges_2 (%)'] = train_data['charges_2 (%)'].fillna(train_data['charges_2 (%)'].mean())\\ntrain_data['Minimum_price'] = train_data['Minimum_price'].fillna(train_data['Minimum_price'].mean())\\ntrain_data['Maximum_price'] = train_data['Maximum_price'].fillna(train_data['Maximum_price'].mean())\\ntrain_data['Selling_Price'] = train_data['Selling_Price'].fillna(train_data['Selling_Price'].mean())\""
      ]
     },
     "execution_count": 190,
     "metadata": {},
     "output_type": "execute_result"
    }
   ],
   "source": [
    "'''train_data['Stall_no'] = train_data['Stall_no'].fillna(train_data['Stall_no'].mean())\n",
    "train_data['Discount_avail'] = train_data['Discount_avail'].fillna(train_data['Discount_avail'].mean())\n",
    "train_data['charges_1'] = train_data['charges_1'].fillna(train_data['charges_1'].mean())\n",
    "train_data['charges_2 (%)'] = train_data['charges_2 (%)'].fillna(train_data['charges_2 (%)'].mean())\n",
    "train_data['Minimum_price'] = train_data['Minimum_price'].fillna(train_data['Minimum_price'].mean())\n",
    "train_data['Maximum_price'] = train_data['Maximum_price'].fillna(train_data['Maximum_price'].mean())\n",
    "train_data['Selling_Price'] = train_data['Selling_Price'].fillna(train_data['Selling_Price'].mean())'''"
   ]
  },
  {
   "cell_type": "code",
   "execution_count": 191,
   "metadata": {
    "execution": {
     "iopub.execute_input": "2020-11-17T11:51:56.343712Z",
     "iopub.status.busy": "2020-11-17T11:51:56.342867Z",
     "iopub.status.idle": "2020-11-17T11:51:56.350091Z",
     "shell.execute_reply": "2020-11-17T11:51:56.349504Z"
    },
    "papermill": {
     "duration": 0.046718,
     "end_time": "2020-11-17T11:51:56.350230",
     "exception": false,
     "start_time": "2020-11-17T11:51:56.303512",
     "status": "completed"
    },
    "tags": []
   },
   "outputs": [],
   "source": [
    "#train_data.isnull().sum()"
   ]
  },
  {
   "cell_type": "code",
   "execution_count": 192,
   "metadata": {},
   "outputs": [],
   "source": [
    "train_data = train_data.dropna()"
   ]
  },
  {
   "cell_type": "code",
   "execution_count": 193,
   "metadata": {
    "execution": {
     "iopub.execute_input": "2020-11-17T11:51:56.418427Z",
     "iopub.status.busy": "2020-11-17T11:51:56.417673Z",
     "iopub.status.idle": "2020-11-17T11:51:56.439258Z",
     "shell.execute_reply": "2020-11-17T11:51:56.438485Z"
    },
    "papermill": {
     "duration": 0.057528,
     "end_time": "2020-11-17T11:51:56.439381",
     "exception": false,
     "start_time": "2020-11-17T11:51:56.381853",
     "status": "completed"
    },
    "tags": []
   },
   "outputs": [],
   "source": [
    "test_data = pd.read_csv('Datasets/dataset/test.csv')"
   ]
  },
  {
   "cell_type": "code",
   "execution_count": 194,
   "metadata": {
    "execution": {
     "iopub.execute_input": "2020-11-17T11:51:56.522191Z",
     "iopub.status.busy": "2020-11-17T11:51:56.512452Z",
     "iopub.status.idle": "2020-11-17T11:51:56.526795Z",
     "shell.execute_reply": "2020-11-17T11:51:56.526175Z"
    },
    "papermill": {
     "duration": 0.056917,
     "end_time": "2020-11-17T11:51:56.526947",
     "exception": false,
     "start_time": "2020-11-17T11:51:56.470030",
     "status": "completed"
    },
    "tags": []
   },
   "outputs": [
    {
     "data": {
      "text/html": [
       "<div>\n",
       "<style scoped>\n",
       "    .dataframe tbody tr th:only-of-type {\n",
       "        vertical-align: middle;\n",
       "    }\n",
       "\n",
       "    .dataframe tbody tr th {\n",
       "        vertical-align: top;\n",
       "    }\n",
       "\n",
       "    .dataframe thead th {\n",
       "        text-align: right;\n",
       "    }\n",
       "</style>\n",
       "<table border=\"1\" class=\"dataframe\">\n",
       "  <thead>\n",
       "    <tr style=\"text-align: right;\">\n",
       "      <th></th>\n",
       "      <th>Product_id</th>\n",
       "      <th>Stall_no</th>\n",
       "      <th>instock_date</th>\n",
       "      <th>Market_Category</th>\n",
       "      <th>Customer_name</th>\n",
       "      <th>Loyalty_customer</th>\n",
       "      <th>Product_Category</th>\n",
       "      <th>Grade</th>\n",
       "      <th>Demand</th>\n",
       "      <th>Discount_avail</th>\n",
       "      <th>charges_1</th>\n",
       "      <th>charges_2 (%)</th>\n",
       "      <th>Minimum_price</th>\n",
       "      <th>Maximum_price</th>\n",
       "    </tr>\n",
       "  </thead>\n",
       "  <tbody>\n",
       "    <tr>\n",
       "      <th>0</th>\n",
       "      <td>SCHE4YSTDVPVZVXW</td>\n",
       "      <td>39.0</td>\n",
       "      <td>2016-01-13 07:45:08.000</td>\n",
       "      <td>205</td>\n",
       "      <td>Ivanka</td>\n",
       "      <td>No</td>\n",
       "      <td>Fashion</td>\n",
       "      <td>0</td>\n",
       "      <td>90</td>\n",
       "      <td>0</td>\n",
       "      <td>380.0</td>\n",
       "      <td>16.0</td>\n",
       "      <td>2576.0</td>\n",
       "      <td>3340</td>\n",
       "    </tr>\n",
       "    <tr>\n",
       "      <th>1</th>\n",
       "      <td>ACCEGCATKHNRXUHW</td>\n",
       "      <td>49.0</td>\n",
       "      <td>2015-08-23 20:37:05.000</td>\n",
       "      <td>3</td>\n",
       "      <td>Isaak</td>\n",
       "      <td>Yes</td>\n",
       "      <td>Fashion</td>\n",
       "      <td>0</td>\n",
       "      <td>87</td>\n",
       "      <td>0</td>\n",
       "      <td>393.0</td>\n",
       "      <td>16.0</td>\n",
       "      <td>1202.0</td>\n",
       "      <td>1955</td>\n",
       "    </tr>\n",
       "    <tr>\n",
       "      <th>2</th>\n",
       "      <td>NKCE6GJ5XVJDXNNZ</td>\n",
       "      <td>1.0</td>\n",
       "      <td>2015-11-14 18:12:39.000</td>\n",
       "      <td>183</td>\n",
       "      <td>Analiese</td>\n",
       "      <td>No</td>\n",
       "      <td>Technology</td>\n",
       "      <td>2</td>\n",
       "      <td>55</td>\n",
       "      <td>0</td>\n",
       "      <td>493.0</td>\n",
       "      <td>9.0</td>\n",
       "      <td>7175.0</td>\n",
       "      <td>15715</td>\n",
       "    </tr>\n",
       "    <tr>\n",
       "      <th>3</th>\n",
       "      <td>NKCEB8BK3ZXDHDHM</td>\n",
       "      <td>8.0</td>\n",
       "      <td>2015-11-21 04:56:19.000</td>\n",
       "      <td>358</td>\n",
       "      <td>Rusty</td>\n",
       "      <td>Yes</td>\n",
       "      <td>Child_care</td>\n",
       "      <td>3</td>\n",
       "      <td>86</td>\n",
       "      <td>0</td>\n",
       "      <td>303.0</td>\n",
       "      <td>16.0</td>\n",
       "      <td>5404.0</td>\n",
       "      <td>13078</td>\n",
       "    </tr>\n",
       "    <tr>\n",
       "      <th>4</th>\n",
       "      <td>TOPEFDXSAHRNPF94</td>\n",
       "      <td>33.0</td>\n",
       "      <td>2015-05-06 15:09:46.000</td>\n",
       "      <td>167</td>\n",
       "      <td>Eloise</td>\n",
       "      <td>No</td>\n",
       "      <td>Technology</td>\n",
       "      <td>0</td>\n",
       "      <td>27</td>\n",
       "      <td>0</td>\n",
       "      <td>567.0</td>\n",
       "      <td>16.0</td>\n",
       "      <td>4069.0</td>\n",
       "      <td>6244</td>\n",
       "    </tr>\n",
       "  </tbody>\n",
       "</table>\n",
       "</div>"
      ],
      "text/plain": [
       "         Product_id  Stall_no             instock_date  Market_Category  \\\n",
       "0  SCHE4YSTDVPVZVXW      39.0  2016-01-13 07:45:08.000              205   \n",
       "1  ACCEGCATKHNRXUHW      49.0  2015-08-23 20:37:05.000                3   \n",
       "2  NKCE6GJ5XVJDXNNZ       1.0  2015-11-14 18:12:39.000              183   \n",
       "3  NKCEB8BK3ZXDHDHM       8.0  2015-11-21 04:56:19.000              358   \n",
       "4  TOPEFDXSAHRNPF94      33.0  2015-05-06 15:09:46.000              167   \n",
       "\n",
       "  Customer_name Loyalty_customer Product_Category  Grade  Demand  \\\n",
       "0        Ivanka              No           Fashion      0      90   \n",
       "1         Isaak              Yes          Fashion      0      87   \n",
       "2      Analiese              No        Technology      2      55   \n",
       "3         Rusty              Yes       Child_care      3      86   \n",
       "4        Eloise              No        Technology      0      27   \n",
       "\n",
       "   Discount_avail  charges_1  charges_2 (%)  Minimum_price  Maximum_price  \n",
       "0               0      380.0           16.0         2576.0           3340  \n",
       "1               0      393.0           16.0         1202.0           1955  \n",
       "2               0      493.0            9.0         7175.0          15715  \n",
       "3               0      303.0           16.0         5404.0          13078  \n",
       "4               0      567.0           16.0         4069.0           6244  "
      ]
     },
     "execution_count": 194,
     "metadata": {},
     "output_type": "execute_result"
    }
   ],
   "source": [
    "test_data.head()"
   ]
  },
  {
   "cell_type": "code",
   "execution_count": 195,
   "metadata": {},
   "outputs": [
    {
     "data": {
      "text/plain": [
       "Product_id           0\n",
       "Stall_no             1\n",
       "instock_date         0\n",
       "Market_Category      0\n",
       "Customer_name       53\n",
       "Loyalty_customer     0\n",
       "Product_Category     0\n",
       "Grade                0\n",
       "Demand               0\n",
       "Discount_avail       0\n",
       "charges_1           36\n",
       "charges_2 (%)        5\n",
       "Minimum_price       14\n",
       "Maximum_price        0\n",
       "dtype: int64"
      ]
     },
     "execution_count": 195,
     "metadata": {},
     "output_type": "execute_result"
    }
   ],
   "source": [
    "test_data.isna().sum()"
   ]
  },
  {
   "cell_type": "code",
   "execution_count": 196,
   "metadata": {
    "execution": {
     "iopub.execute_input": "2020-11-17T11:51:56.602962Z",
     "iopub.status.busy": "2020-11-17T11:51:56.600821Z",
     "iopub.status.idle": "2020-11-17T11:51:56.606444Z",
     "shell.execute_reply": "2020-11-17T11:51:56.605744Z"
    },
    "papermill": {
     "duration": 0.048084,
     "end_time": "2020-11-17T11:51:56.606572",
     "exception": false,
     "start_time": "2020-11-17T11:51:56.558488",
     "status": "completed"
    },
    "tags": []
   },
   "outputs": [],
   "source": [
    "test_data['Stall_no'] = test_data['Stall_no'].fillna(test_data['Stall_no'].mean())\n",
    "test_data['Discount_avail'] = test_data['Discount_avail'].fillna(test_data['Discount_avail'].mean())\n",
    "test_data['charges_1'] = test_data['charges_1'].fillna(test_data['charges_1'].mean())\n",
    "test_data['charges_2 (%)'] = test_data['charges_2 (%)'].fillna(test_data['charges_2 (%)'].mean())\n",
    "test_data['Minimum_price'] = test_data['Minimum_price'].fillna(test_data['Minimum_price'].mean())\n",
    "test_data['Maximum_price'] = test_data['Maximum_price'].fillna(test_data['Maximum_price'].mean())\n"
   ]
  },
  {
   "cell_type": "code",
   "execution_count": 197,
   "metadata": {},
   "outputs": [
    {
     "data": {
      "text/plain": [
       "Product_id           0\n",
       "Stall_no             0\n",
       "instock_date         0\n",
       "Market_Category      0\n",
       "Customer_name       53\n",
       "Loyalty_customer     0\n",
       "Product_Category     0\n",
       "Grade                0\n",
       "Demand               0\n",
       "Discount_avail       0\n",
       "charges_1            0\n",
       "charges_2 (%)        0\n",
       "Minimum_price        0\n",
       "Maximum_price        0\n",
       "dtype: int64"
      ]
     },
     "execution_count": 197,
     "metadata": {},
     "output_type": "execute_result"
    }
   ],
   "source": [
    "test_data.isna().sum()"
   ]
  },
  {
   "cell_type": "code",
   "execution_count": 198,
   "metadata": {
    "execution": {
     "iopub.execute_input": "2020-11-17T11:51:56.675876Z",
     "iopub.status.busy": "2020-11-17T11:51:56.674887Z",
     "iopub.status.idle": "2020-11-17T11:51:56.677967Z",
     "shell.execute_reply": "2020-11-17T11:51:56.677340Z"
    },
    "papermill": {
     "duration": 0.039627,
     "end_time": "2020-11-17T11:51:56.678086",
     "exception": false,
     "start_time": "2020-11-17T11:51:56.638459",
     "status": "completed"
    },
    "tags": []
   },
   "outputs": [],
   "source": [
    "train_id = train_data['Product_id']"
   ]
  },
  {
   "cell_type": "code",
   "execution_count": 199,
   "metadata": {
    "execution": {
     "iopub.execute_input": "2020-11-17T11:51:56.748955Z",
     "iopub.status.busy": "2020-11-17T11:51:56.748035Z",
     "iopub.status.idle": "2020-11-17T11:51:56.752589Z",
     "shell.execute_reply": "2020-11-17T11:51:56.751947Z"
    },
    "papermill": {
     "duration": 0.042801,
     "end_time": "2020-11-17T11:51:56.752709",
     "exception": false,
     "start_time": "2020-11-17T11:51:56.709908",
     "status": "completed"
    },
    "tags": []
   },
   "outputs": [
    {
     "data": {
      "text/plain": [
       "0    BRAE2NF6JA5GUEXG\n",
       "1    TUNE8SFB6RJN2HSD\n",
       "2    BRAEAR7WZPQGPBZU\n",
       "3    WATDZ2ZQ8JPDHCTJ\n",
       "4    JWSEBUKYQPMBZ3RK\n",
       "Name: Product_id, dtype: object"
      ]
     },
     "execution_count": 199,
     "metadata": {},
     "output_type": "execute_result"
    }
   ],
   "source": [
    "train_id.head()"
   ]
  },
  {
   "cell_type": "code",
   "execution_count": 200,
   "metadata": {},
   "outputs": [],
   "source": [
    "test_id = test_data['Product_id']"
   ]
  },
  {
   "cell_type": "code",
   "execution_count": 201,
   "metadata": {},
   "outputs": [
    {
     "data": {
      "text/plain": [
       "0    SCHE4YSTDVPVZVXW\n",
       "1    ACCEGCATKHNRXUHW\n",
       "2    NKCE6GJ5XVJDXNNZ\n",
       "3    NKCEB8BK3ZXDHDHM\n",
       "4    TOPEFDXSAHRNPF94\n",
       "Name: Product_id, dtype: object"
      ]
     },
     "execution_count": 201,
     "metadata": {},
     "output_type": "execute_result"
    }
   ],
   "source": [
    "test_id.head()"
   ]
  },
  {
   "cell_type": "code",
   "execution_count": 202,
   "metadata": {
    "execution": {
     "iopub.execute_input": "2020-11-17T11:51:56.825327Z",
     "iopub.status.busy": "2020-11-17T11:51:56.824600Z",
     "iopub.status.idle": "2020-11-17T11:51:56.832727Z",
     "shell.execute_reply": "2020-11-17T11:51:56.832097Z"
    },
    "papermill": {
     "duration": 0.047643,
     "end_time": "2020-11-17T11:51:56.832856",
     "exception": false,
     "start_time": "2020-11-17T11:51:56.785213",
     "status": "completed"
    },
    "tags": []
   },
   "outputs": [],
   "source": [
    "x_train = train_data.iloc[:,[5,7,8,9,10,11,12,13]].values\n",
    "y_train = train_data.iloc[:,14].values"
   ]
  },
  {
   "cell_type": "code",
   "execution_count": 203,
   "metadata": {
    "execution": {
     "iopub.execute_input": "2020-11-17T11:51:56.985058Z",
     "iopub.status.busy": "2020-11-17T11:51:56.983952Z",
     "iopub.status.idle": "2020-11-17T11:51:56.988665Z",
     "shell.execute_reply": "2020-11-17T11:51:56.988016Z"
    },
    "papermill": {
     "duration": 0.046198,
     "end_time": "2020-11-17T11:51:56.988792",
     "exception": false,
     "start_time": "2020-11-17T11:51:56.942594",
     "status": "completed"
    },
    "tags": []
   },
   "outputs": [],
   "source": [
    "x_test = test_data.iloc[:,[5,7,8,9,10,11,12,13]].values\n"
   ]
  },
  {
   "cell_type": "code",
   "execution_count": 204,
   "metadata": {
    "execution": {
     "iopub.execute_input": "2020-11-17T11:51:57.061534Z",
     "iopub.status.busy": "2020-11-17T11:51:57.060475Z",
     "iopub.status.idle": "2020-11-17T11:51:57.063779Z",
     "shell.execute_reply": "2020-11-17T11:51:57.063053Z"
    },
    "papermill": {
     "duration": 0.041491,
     "end_time": "2020-11-17T11:51:57.063897",
     "exception": false,
     "start_time": "2020-11-17T11:51:57.022406",
     "status": "completed"
    },
    "tags": []
   },
   "outputs": [
    {
     "data": {
      "text/plain": [
       "array([['No ', 0, 90, ..., 16.0, 2576.0, 3340],\n",
       "       ['Yes', 0, 87, ..., 16.0, 1202.0, 1955],\n",
       "       ['No ', 2, 55, ..., 9.0, 7175.0, 15715],\n",
       "       ...,\n",
       "       ['Yes', 0, 36, ..., 17.0, 710.0, 10894],\n",
       "       ['Yes', 0, 63, ..., 15.0, 1477.0, 5165],\n",
       "       ['No ', 0, 92, ..., 9.0, 5538.0, 7506]], dtype=object)"
      ]
     },
     "execution_count": 204,
     "metadata": {},
     "output_type": "execute_result"
    }
   ],
   "source": [
    "x_test"
   ]
  },
  {
   "cell_type": "code",
   "execution_count": 205,
   "metadata": {
    "execution": {
     "iopub.execute_input": "2020-11-17T11:51:56.904900Z",
     "iopub.status.busy": "2020-11-17T11:51:56.903749Z",
     "iopub.status.idle": "2020-11-17T11:51:56.908306Z",
     "shell.execute_reply": "2020-11-17T11:51:56.907556Z"
    },
    "papermill": {
     "duration": 0.042839,
     "end_time": "2020-11-17T11:51:56.908440",
     "exception": false,
     "start_time": "2020-11-17T11:51:56.865601",
     "status": "completed"
    },
    "tags": []
   },
   "outputs": [
    {
     "data": {
      "text/plain": [
       "array([['Yes', 1, 68, ..., 11.0, 2983.0, 4713.0],\n",
       "       ['Yes', 0, 51, ..., 12.0, 7495.0, 10352.0],\n",
       "       ['Yes', 0, 10, ..., 9.0, 5752.0, 7309.0],\n",
       "       ...,\n",
       "       ['No ', 3, 29, ..., 3.0, 5303.0, 14614.0],\n",
       "       ['Yes', 0, 8, ..., 3.0, 4334.0, 5849.0],\n",
       "       ['Yes', 0, 94, ..., 7.0, 3975.0, 5383.0]], dtype=object)"
      ]
     },
     "execution_count": 205,
     "metadata": {},
     "output_type": "execute_result"
    }
   ],
   "source": [
    "x_train\n"
   ]
  },
  {
   "cell_type": "code",
   "execution_count": 206,
   "metadata": {
    "execution": {
     "iopub.execute_input": "2020-11-17T11:51:57.285518Z",
     "iopub.status.busy": "2020-11-17T11:51:57.284754Z",
     "iopub.status.idle": "2020-11-17T11:51:58.127075Z",
     "shell.execute_reply": "2020-11-17T11:51:58.126415Z"
    },
    "papermill": {
     "duration": 0.883066,
     "end_time": "2020-11-17T11:51:58.127221",
     "exception": false,
     "start_time": "2020-11-17T11:51:57.244155",
     "status": "completed"
    },
    "tags": []
   },
   "outputs": [],
   "source": [
    "from sklearn.preprocessing import LabelEncoder,OneHotEncoder\n",
    "le_train1 = LabelEncoder()\n",
    "#le_train2 = LabelEncoder()\n",
    "x_train[:,0] = le_train1.fit_transform(x_train[:,0])\n",
    "#x_train[:,2] = le_train2.fit_transform(x_train[:,2])"
   ]
  },
  {
   "cell_type": "code",
   "execution_count": 207,
   "metadata": {
    "execution": {
     "iopub.execute_input": "2020-11-17T11:51:58.203577Z",
     "iopub.status.busy": "2020-11-17T11:51:58.202697Z",
     "iopub.status.idle": "2020-11-17T11:51:58.207375Z",
     "shell.execute_reply": "2020-11-17T11:51:58.206693Z"
    },
    "papermill": {
     "duration": 0.044719,
     "end_time": "2020-11-17T11:51:58.207502",
     "exception": false,
     "start_time": "2020-11-17T11:51:58.162783",
     "status": "completed"
    },
    "tags": []
   },
   "outputs": [
    {
     "data": {
      "text/plain": [
       "array([[1, 1, 68, 0.0, 376.0, 11.0, 2983.0, 4713.0],\n",
       "       [1, 0, 51, 0.0, 397.0, 12.0, 7495.0, 10352.0],\n",
       "       [1, 0, 10, 0.0, 250.0, 9.0, 5752.0, 7309.0],\n",
       "       [1, 2, 48, 0.0, 144.0, 13.0, 5090.0, 20814.0],\n",
       "       [1, 1, 35, 1.0, 211.0, 4.0, 2430.0, 9261.0]], dtype=object)"
      ]
     },
     "execution_count": 207,
     "metadata": {},
     "output_type": "execute_result"
    }
   ],
   "source": [
    "x_train[:5,:]"
   ]
  },
  {
   "cell_type": "code",
   "execution_count": 208,
   "metadata": {
    "execution": {
     "iopub.execute_input": "2020-11-17T11:51:58.371543Z",
     "iopub.status.busy": "2020-11-17T11:51:58.370527Z",
     "iopub.status.idle": "2020-11-17T11:51:58.373830Z",
     "shell.execute_reply": "2020-11-17T11:51:58.374451Z"
    },
    "papermill": {
     "duration": 0.050951,
     "end_time": "2020-11-17T11:51:58.374624",
     "exception": false,
     "start_time": "2020-11-17T11:51:58.323673",
     "status": "completed"
    },
    "tags": []
   },
   "outputs": [],
   "source": [
    "le_test1 = LabelEncoder()\n",
    "#le_test2 = LabelEncoder()\n",
    "x_test[:,0] = le_test1.fit_transform(x_test[:,0])\n",
    "#x_test[:,2] = le_test2.fit_transform(x_test[:,2])"
   ]
  },
  {
   "cell_type": "code",
   "execution_count": 209,
   "metadata": {
    "execution": {
     "iopub.execute_input": "2020-11-17T11:51:58.453179Z",
     "iopub.status.busy": "2020-11-17T11:51:58.452312Z",
     "iopub.status.idle": "2020-11-17T11:51:58.456635Z",
     "shell.execute_reply": "2020-11-17T11:51:58.455913Z"
    },
    "papermill": {
     "duration": 0.045439,
     "end_time": "2020-11-17T11:51:58.456750",
     "exception": false,
     "start_time": "2020-11-17T11:51:58.411311",
     "status": "completed"
    },
    "tags": []
   },
   "outputs": [
    {
     "data": {
      "text/plain": [
       "array([[0, 0, 90, 0, 380.0, 16.0, 2576.0, 3340],\n",
       "       [1, 0, 87, 0, 393.0, 16.0, 1202.0, 1955],\n",
       "       [0, 2, 55, 0, 493.0, 9.0, 7175.0, 15715],\n",
       "       [1, 3, 86, 0, 303.0, 16.0, 5404.0, 13078],\n",
       "       [0, 0, 27, 0, 567.0, 16.0, 4069.0, 6244]], dtype=object)"
      ]
     },
     "execution_count": 209,
     "metadata": {},
     "output_type": "execute_result"
    }
   ],
   "source": [
    "x_test[:5,:]"
   ]
  },
  {
   "cell_type": "code",
   "execution_count": 210,
   "metadata": {
    "execution": {
     "iopub.execute_input": "2020-11-17T11:51:58.542196Z",
     "iopub.status.busy": "2020-11-17T11:51:58.541423Z",
     "iopub.status.idle": "2020-11-17T11:51:58.555757Z",
     "shell.execute_reply": "2020-11-17T11:51:58.554982Z"
    },
    "papermill": {
     "duration": 0.061911,
     "end_time": "2020-11-17T11:51:58.555890",
     "exception": false,
     "start_time": "2020-11-17T11:51:58.493979",
     "status": "completed"
    },
    "tags": []
   },
   "outputs": [
    {
     "name": "stderr",
     "output_type": "stream",
     "text": [
      "C:\\Users\\HP\\Anaconda3\\lib\\site-packages\\sklearn\\utils\\validation.py:595: DataConversionWarning: Data with input dtype object was converted to float64 by StandardScaler.\n",
      "  warnings.warn(msg, DataConversionWarning)\n",
      "C:\\Users\\HP\\Anaconda3\\lib\\site-packages\\sklearn\\utils\\validation.py:595: DataConversionWarning: Data with input dtype object was converted to float64 by StandardScaler.\n",
      "  warnings.warn(msg, DataConversionWarning)\n",
      "C:\\Users\\HP\\Anaconda3\\lib\\site-packages\\sklearn\\utils\\validation.py:595: DataConversionWarning: Data with input dtype object was converted to float64 by StandardScaler.\n",
      "  warnings.warn(msg, DataConversionWarning)\n"
     ]
    }
   ],
   "source": [
    "from sklearn.preprocessing import StandardScaler\n",
    "sc = StandardScaler()\n",
    "x_train = sc.fit_transform(x_train);\n",
    "x_test = sc.transform(x_test);"
   ]
  },
  {
   "cell_type": "code",
   "execution_count": 211,
   "metadata": {
    "execution": {
     "iopub.execute_input": "2020-11-17T11:51:58.634994Z",
     "iopub.status.busy": "2020-11-17T11:51:58.633458Z",
     "iopub.status.idle": "2020-11-17T11:51:58.640475Z",
     "shell.execute_reply": "2020-11-17T11:51:58.639622Z"
    },
    "papermill": {
     "duration": 0.048258,
     "end_time": "2020-11-17T11:51:58.640656",
     "exception": false,
     "start_time": "2020-11-17T11:51:58.592398",
     "status": "completed"
    },
    "tags": []
   },
   "outputs": [
    {
     "data": {
      "text/plain": [
       "array([[ 8.05259134e-01,  3.31862989e-01,  5.84198521e-01, ...,\n",
       "         1.91555986e-01, -2.54246809e-01, -4.72609036e-01],\n",
       "       [ 8.05259134e-01, -6.35234502e-01, -7.39548290e-04, ...,\n",
       "         4.22940868e-01,  1.78586158e+00,  1.02650052e+00],\n",
       "       [ 8.05259134e-01, -6.35234502e-01, -1.41147254e+00, ...,\n",
       "        -2.71213779e-01,  9.97761199e-01,  2.17529002e-01],\n",
       "       ...,\n",
       "       [-1.24183627e+00,  2.26605797e+00, -7.57718226e-01, ...,\n",
       "        -1.65952307e+00,  7.94745093e-01,  2.15953916e+00],\n",
       "       [ 8.05259134e-01, -6.35234502e-01, -1.48028878e+00, ...,\n",
       "        -1.65952307e+00,  3.56610113e-01, -1.70607182e-01],\n",
       "       [ 8.05259134e-01, -6.35234502e-01,  1.47880969e+00, ...,\n",
       "        -7.33983544e-01,  1.94287659e-01, -2.94491745e-01]])"
      ]
     },
     "execution_count": 211,
     "metadata": {},
     "output_type": "execute_result"
    }
   ],
   "source": [
    "x_train"
   ]
  },
  {
   "cell_type": "code",
   "execution_count": 212,
   "metadata": {},
   "outputs": [
    {
     "data": {
      "text/plain": [
       "array([[-1.24183627, -0.6352345 ,  1.3411772 , ...,  1.3484804 ,\n",
       "        -0.43827254, -0.83761656],\n",
       "       [ 0.80525913, -0.6352345 ,  1.23795283, ...,  1.3484804 ,\n",
       "        -1.05952896, -1.20581424],\n",
       "       [-1.24183627,  1.29896048,  0.13689294, ..., -0.27121378,\n",
       "         1.64117304,  2.45223638],\n",
       "       ...,\n",
       "       [ 0.80525913, -0.6352345 , -0.51686137, ...,  1.57986528,\n",
       "        -1.28198758,  1.17058943],\n",
       "       [ 0.80525913, -0.6352345 ,  0.41215791, ...,  1.11709552,\n",
       "        -0.93518724, -0.35244633],\n",
       "       [-1.24183627, -0.6352345 ,  1.40999344, ..., -0.27121378,\n",
       "         0.90100074,  0.2699008 ]])"
      ]
     },
     "execution_count": 212,
     "metadata": {},
     "output_type": "execute_result"
    }
   ],
   "source": [
    "x_test"
   ]
  },
  {
   "cell_type": "code",
   "execution_count": 213,
   "metadata": {
    "execution": {
     "iopub.execute_input": "2020-11-17T11:51:58.725467Z",
     "iopub.status.busy": "2020-11-17T11:51:58.724584Z",
     "iopub.status.idle": "2020-11-17T11:51:58.965558Z",
     "shell.execute_reply": "2020-11-17T11:51:58.964738Z"
    },
    "papermill": {
     "duration": 0.283407,
     "end_time": "2020-11-17T11:51:58.965683",
     "exception": false,
     "start_time": "2020-11-17T11:51:58.682276",
     "status": "completed"
    },
    "tags": []
   },
   "outputs": [],
   "source": [
    "from sklearn.model_selection import GridSearchCV\n",
    "from sklearn.model_selection import ShuffleSplit\n",
    "from sklearn.linear_model import LinearRegression\n",
    "from sklearn.tree import DecisionTreeRegressor\n",
    "from sklearn.ensemble import RandomForestRegressor\n",
    "#from sklearn.ensemble import VotingRegressor\n",
    "from sklearn import linear_model\n",
    "from sklearn.svm import LinearSVR\n",
    "from sklearn.svm import SVR\n",
    "from sklearn.svm import NuSVR"
   ]
  },
  {
   "cell_type": "code",
   "execution_count": 214,
   "metadata": {
    "execution": {
     "iopub.execute_input": "2020-11-17T11:51:59.061178Z",
     "iopub.status.busy": "2020-11-17T11:51:59.059994Z",
     "iopub.status.idle": "2020-11-17T11:54:48.035747Z",
     "shell.execute_reply": "2020-11-17T11:54:48.036442Z"
    },
    "papermill": {
     "duration": 169.032186,
     "end_time": "2020-11-17T11:54:48.036624",
     "exception": false,
     "start_time": "2020-11-17T11:51:59.004438",
     "status": "completed"
    },
    "tags": []
   },
   "outputs": [
    {
     "data": {
      "text/html": [
       "<div>\n",
       "<style scoped>\n",
       "    .dataframe tbody tr th:only-of-type {\n",
       "        vertical-align: middle;\n",
       "    }\n",
       "\n",
       "    .dataframe tbody tr th {\n",
       "        vertical-align: top;\n",
       "    }\n",
       "\n",
       "    .dataframe thead th {\n",
       "        text-align: right;\n",
       "    }\n",
       "</style>\n",
       "<table border=\"1\" class=\"dataframe\">\n",
       "  <thead>\n",
       "    <tr style=\"text-align: right;\">\n",
       "      <th></th>\n",
       "      <th>model</th>\n",
       "      <th>best_parameters</th>\n",
       "      <th>score</th>\n",
       "    </tr>\n",
       "  </thead>\n",
       "  <tbody>\n",
       "    <tr>\n",
       "      <th>0</th>\n",
       "      <td>linear_regression</td>\n",
       "      <td>NaN</td>\n",
       "      <td>0.904139</td>\n",
       "    </tr>\n",
       "    <tr>\n",
       "      <th>1</th>\n",
       "      <td>decison_tree_regressor</td>\n",
       "      <td>NaN</td>\n",
       "      <td>0.962407</td>\n",
       "    </tr>\n",
       "    <tr>\n",
       "      <th>2</th>\n",
       "      <td>random_forest</td>\n",
       "      <td>NaN</td>\n",
       "      <td>0.979903</td>\n",
       "    </tr>\n",
       "    <tr>\n",
       "      <th>3</th>\n",
       "      <td>linear_model</td>\n",
       "      <td>NaN</td>\n",
       "      <td>0.904144</td>\n",
       "    </tr>\n",
       "    <tr>\n",
       "      <th>4</th>\n",
       "      <td>ElasticNet</td>\n",
       "      <td>NaN</td>\n",
       "      <td>0.904144</td>\n",
       "    </tr>\n",
       "    <tr>\n",
       "      <th>5</th>\n",
       "      <td>Ridge</td>\n",
       "      <td>NaN</td>\n",
       "      <td>0.904144</td>\n",
       "    </tr>\n",
       "    <tr>\n",
       "      <th>6</th>\n",
       "      <td>LinSVR</td>\n",
       "      <td>NaN</td>\n",
       "      <td>0.340722</td>\n",
       "    </tr>\n",
       "  </tbody>\n",
       "</table>\n",
       "</div>"
      ],
      "text/plain": [
       "                    model  best_parameters     score\n",
       "0       linear_regression              NaN  0.904139\n",
       "1  decison_tree_regressor              NaN  0.962407\n",
       "2           random_forest              NaN  0.979903\n",
       "3            linear_model              NaN  0.904144\n",
       "4              ElasticNet              NaN  0.904144\n",
       "5                   Ridge              NaN  0.904144\n",
       "6                  LinSVR              NaN  0.340722"
      ]
     },
     "execution_count": 214,
     "metadata": {},
     "output_type": "execute_result"
    }
   ],
   "source": [
    "def find_best_model(X,Y):\n",
    "    models = {\n",
    "        'linear_regression' :{\n",
    "            'model': LinearRegression(),\n",
    "            'parameters':{\n",
    "                \n",
    "            }\n",
    "        },\n",
    "        \n",
    "        'decison_tree_regressor':{\n",
    "            'model': DecisionTreeRegressor(splitter='best'),\n",
    "            'parameters' :{\n",
    "                'max_depth' :[5,10]\n",
    "            }\n",
    "        },\n",
    "        \n",
    "        'random_forest': {\n",
    "            'model': RandomForestRegressor(),\n",
    "            \n",
    "            'parameters' :{\n",
    "                'n_estimators': [100]\n",
    "            }\n",
    "        },\n",
    "            'linear_model' :{\n",
    "                'model' : linear_model.Lasso(),\n",
    "                'parameters' : {\n",
    "                    'alpha' : [1]\n",
    "                }\n",
    "            \n",
    "        },\n",
    "        'ElasticNet' :\n",
    "        {\n",
    "            'model' : linear_model.ElasticNet(),\n",
    "            'parameters':{\n",
    "                'l1_ratio': [1],\n",
    "                'alpha' : [1]\n",
    "            }\n",
    "        },\n",
    "        'Ridge' :{\n",
    "                'model' : linear_model.Ridge(),\n",
    "                'parameters' : {\n",
    "                    'alpha' : [1]\n",
    "                }\n",
    "            \n",
    "        },\n",
    "        'LinSVR' :{\n",
    "                'model' : LinearSVR(),\n",
    "                'parameters' : {\n",
    "                    'epsilon' : [0],\n",
    "                    'tol':[1e-5]\n",
    "                }\n",
    "            \n",
    "        }\n",
    "        \n",
    "    }\n",
    "    \n",
    "    scores = []\n",
    "    cv_shuffle = ShuffleSplit(n_splits=5,test_size= 0.2,random_state=0)\n",
    "    \n",
    "    for model_names,model_params in models.items():\n",
    "        gc = GridSearchCV(model_params['model'],model_params['parameters'],cv = cv_shuffle,return_train_score= False)\n",
    "        gc.fit(X,Y)\n",
    "        scores.append({\n",
    "            'model': model_names,\n",
    "            'parameters' : gc.best_params_,\n",
    "            'score' : gc.best_score_\n",
    "        })\n",
    "        \n",
    "    return pd.DataFrame(scores, columns=['model','best_parameters','score']);\n",
    "\n",
    "find_best_model(x_train, y_train)"
   ]
  },
  {
   "cell_type": "code",
   "execution_count": 274,
   "metadata": {
    "execution": {
     "iopub.execute_input": "2020-11-17T11:54:48.129483Z",
     "iopub.status.busy": "2020-11-17T11:54:48.128627Z",
     "iopub.status.idle": "2020-11-17T11:54:48.176462Z",
     "shell.execute_reply": "2020-11-17T11:54:48.175845Z"
    },
    "papermill": {
     "duration": 0.096631,
     "end_time": "2020-11-17T11:54:48.176589",
     "exception": false,
     "start_time": "2020-11-17T11:54:48.079958",
     "status": "completed"
    },
    "tags": []
   },
   "outputs": [],
   "source": [
    "regressor = RandomForestRegressor(n_estimators= 95)\n",
    "regressor.fit(x_train,y_train);"
   ]
  },
  {
   "cell_type": "code",
   "execution_count": 275,
   "metadata": {
    "execution": {
     "iopub.execute_input": "2020-11-17T11:54:48.261409Z",
     "iopub.status.busy": "2020-11-17T11:54:48.260672Z",
     "iopub.status.idle": "2020-11-17T11:54:48.265320Z",
     "shell.execute_reply": "2020-11-17T11:54:48.264734Z"
    },
    "papermill": {
     "duration": 0.049451,
     "end_time": "2020-11-17T11:54:48.265446",
     "exception": false,
     "start_time": "2020-11-17T11:54:48.215995",
     "status": "completed"
    },
    "tags": []
   },
   "outputs": [],
   "source": [
    "predictions = regressor.predict(x_test)"
   ]
  },
  {
   "cell_type": "code",
   "execution_count": 276,
   "metadata": {},
   "outputs": [
    {
     "data": {
      "text/plain": [
       "0.9970731221820924"
      ]
     },
     "execution_count": 276,
     "metadata": {},
     "output_type": "execute_result"
    }
   ],
   "source": [
    "regressor.score(x_train,y_train)"
   ]
  },
  {
   "cell_type": "code",
   "execution_count": 277,
   "metadata": {
    "execution": {
     "iopub.execute_input": "2020-11-17T11:54:48.353333Z",
     "iopub.status.busy": "2020-11-17T11:54:48.352167Z",
     "iopub.status.idle": "2020-11-17T11:54:48.359355Z",
     "shell.execute_reply": "2020-11-17T11:54:48.358545Z"
    },
    "papermill": {
     "duration": 0.054186,
     "end_time": "2020-11-17T11:54:48.359510",
     "exception": false,
     "start_time": "2020-11-17T11:54:48.305324",
     "status": "completed"
    },
    "tags": []
   },
   "outputs": [],
   "source": [
    "predictions = abs(predictions)"
   ]
  },
  {
   "cell_type": "code",
   "execution_count": 278,
   "metadata": {
    "execution": {
     "iopub.execute_input": "2020-11-17T11:54:48.456412Z",
     "iopub.status.busy": "2020-11-17T11:54:48.455437Z",
     "iopub.status.idle": "2020-11-17T11:54:48.460119Z",
     "shell.execute_reply": "2020-11-17T11:54:48.459544Z"
    },
    "papermill": {
     "duration": 0.054866,
     "end_time": "2020-11-17T11:54:48.460260",
     "exception": false,
     "start_time": "2020-11-17T11:54:48.405394",
     "status": "completed"
    },
    "tags": []
   },
   "outputs": [
    {
     "data": {
      "text/plain": [
       "(3430,)"
      ]
     },
     "execution_count": 278,
     "metadata": {},
     "output_type": "execute_result"
    }
   ],
   "source": [
    "predictions.shape"
   ]
  },
  {
   "cell_type": "code",
   "execution_count": 36,
   "metadata": {},
   "outputs": [
    {
     "data": {
      "text/plain": [
       "array([ 3169.992969,  1946.272125, 12107.327232, ...,  6572.86272 ,\n",
       "        3334.393216,  1010.981664])"
      ]
     },
     "execution_count": 36,
     "metadata": {},
     "output_type": "execute_result"
    }
   ],
   "source": [
    "dtr =  DecisionTreeRegressor(splitter = 'best')\n",
    "dtr.fit(x_train,y_train)\n",
    "predictions2 = dtr.predict(x_test)\n",
    "predictions2 = abs(predictions2)\n",
    "predictions2"
   ]
  },
  {
   "cell_type": "code",
   "execution_count": 257,
   "metadata": {},
   "outputs": [
    {
     "data": {
      "text/plain": [
       "1.0"
      ]
     },
     "execution_count": 257,
     "metadata": {},
     "output_type": "execute_result"
    }
   ],
   "source": [
    "#dtr.score(x_train,y_train)"
   ]
  },
  {
   "cell_type": "code",
   "execution_count": 258,
   "metadata": {},
   "outputs": [],
   "source": [
    "'''clf = linear_model.Ridge(alpha = 1)\n",
    "clf.fit(x_train,y_train)\n",
    "predictions1 = clf.predict(x_test)'''"
   ]
  },
  {
   "cell_type": "code",
   "execution_count": 259,
   "metadata": {},
   "outputs": [],
   "source": [
    "#predictions1=abs(predictions1)"
   ]
  },
  {
   "cell_type": "code",
   "execution_count": 260,
   "metadata": {},
   "outputs": [
    {
     "data": {
      "text/plain": [
       "0.8843744986919082"
      ]
     },
     "execution_count": 260,
     "metadata": {},
     "output_type": "execute_result"
    }
   ],
   "source": [
    "#clf.score(x_train,y_train)"
   ]
  },
  {
   "cell_type": "code",
   "execution_count": 261,
   "metadata": {},
   "outputs": [
    {
     "data": {
      "text/plain": [
       "array([ 3294.6074021 ,  1945.68559566, 11809.51768045, ...,\n",
       "        5891.8116794 ,  3612.08150704,  3567.34777988])"
      ]
     },
     "execution_count": 261,
     "metadata": {},
     "output_type": "execute_result"
    }
   ],
   "source": [
    "'''s_v = SVR(kernel='linear')\n",
    "s_v.fit(x_train,y_train)\n",
    "predictions3 = s_v.predict(x_test)\n",
    "predictions3 = abs(predictions3)\n",
    "predictions3'''"
   ]
  },
  {
   "cell_type": "code",
   "execution_count": 262,
   "metadata": {},
   "outputs": [
    {
     "data": {
      "text/plain": [
       "0.8452876958195298"
      ]
     },
     "execution_count": 262,
     "metadata": {},
     "output_type": "execute_result"
    }
   ],
   "source": [
    "#s_v.score(x_train,y_train)"
   ]
  },
  {
   "cell_type": "code",
   "execution_count": 263,
   "metadata": {
    "execution": {
     "iopub.execute_input": "2020-11-17T11:54:48.547074Z",
     "iopub.status.busy": "2020-11-17T11:54:48.546351Z",
     "iopub.status.idle": "2020-11-17T11:54:48.551697Z",
     "shell.execute_reply": "2020-11-17T11:54:48.550886Z"
    },
    "papermill": {
     "duration": 0.050662,
     "end_time": "2020-11-17T11:54:48.551824",
     "exception": false,
     "start_time": "2020-11-17T11:54:48.501162",
     "status": "completed"
    },
    "tags": []
   },
   "outputs": [
    {
     "data": {
      "text/plain": [
       "(3430, 14)"
      ]
     },
     "execution_count": 263,
     "metadata": {},
     "output_type": "execute_result"
    }
   ],
   "source": [
    "test_data.shape"
   ]
  },
  {
   "cell_type": "code",
   "execution_count": 279,
   "metadata": {
    "execution": {
     "iopub.execute_input": "2020-11-17T11:54:48.646331Z",
     "iopub.status.busy": "2020-11-17T11:54:48.645294Z",
     "iopub.status.idle": "2020-11-17T11:54:48.648503Z",
     "shell.execute_reply": "2020-11-17T11:54:48.647800Z"
    },
    "papermill": {
     "duration": 0.055106,
     "end_time": "2020-11-17T11:54:48.648617",
     "exception": false,
     "start_time": "2020-11-17T11:54:48.593511",
     "status": "completed"
    },
    "tags": []
   },
   "outputs": [],
   "source": [
    "data = pd.DataFrame((zip(test_id,predictions)),columns=['Product_id','Selling_Price'])\n",
    "#data1 = pd.DataFrame((zip(test_id,predictions2)),columns=['Product_id','Selling_Price'])\n",
    "#data2 = pd.DataFrame((zip(test_id,predictions1)),columns=['Product_id','Selling_Price'])\n",
    "#data3 = pd.DataFrame((zip(test_id,predictions3)),columns=['Product_id','Selling_Price'])\n",
    "#data1 = pd.DataFrame((zip(test_id,predictions2)),columns=['Product_id','Selling_Price'])\n",
    "#data1 = pd.DataFrame((zip(test_id,predictions2)),columns=['Product_id','Selling_Price'])"
   ]
  },
  {
   "cell_type": "code",
   "execution_count": 280,
   "metadata": {
    "execution": {
     "iopub.execute_input": "2020-11-17T11:54:48.746100Z",
     "iopub.status.busy": "2020-11-17T11:54:48.745065Z",
     "iopub.status.idle": "2020-11-17T11:54:48.749884Z",
     "shell.execute_reply": "2020-11-17T11:54:48.749221Z"
    },
    "papermill": {
     "duration": 0.060166,
     "end_time": "2020-11-17T11:54:48.750014",
     "exception": false,
     "start_time": "2020-11-17T11:54:48.689848",
     "status": "completed"
    },
    "tags": []
   },
   "outputs": [
    {
     "data": {
      "text/html": [
       "<div>\n",
       "<style scoped>\n",
       "    .dataframe tbody tr th:only-of-type {\n",
       "        vertical-align: middle;\n",
       "    }\n",
       "\n",
       "    .dataframe tbody tr th {\n",
       "        vertical-align: top;\n",
       "    }\n",
       "\n",
       "    .dataframe thead th {\n",
       "        text-align: right;\n",
       "    }\n",
       "</style>\n",
       "<table border=\"1\" class=\"dataframe\">\n",
       "  <thead>\n",
       "    <tr style=\"text-align: right;\">\n",
       "      <th></th>\n",
       "      <th>Product_id</th>\n",
       "      <th>Selling_Price</th>\n",
       "    </tr>\n",
       "  </thead>\n",
       "  <tbody>\n",
       "    <tr>\n",
       "      <th>0</th>\n",
       "      <td>SCHE4YSTDVPVZVXW</td>\n",
       "      <td>3261.918502</td>\n",
       "    </tr>\n",
       "    <tr>\n",
       "      <th>1</th>\n",
       "      <td>ACCEGCATKHNRXUHW</td>\n",
       "      <td>1949.932263</td>\n",
       "    </tr>\n",
       "    <tr>\n",
       "      <th>2</th>\n",
       "      <td>NKCE6GJ5XVJDXNNZ</td>\n",
       "      <td>11810.125083</td>\n",
       "    </tr>\n",
       "    <tr>\n",
       "      <th>3</th>\n",
       "      <td>NKCEB8BK3ZXDHDHM</td>\n",
       "      <td>9368.910953</td>\n",
       "    </tr>\n",
       "    <tr>\n",
       "      <th>4</th>\n",
       "      <td>TOPEFDXSAHRNPF94</td>\n",
       "      <td>5533.055919</td>\n",
       "    </tr>\n",
       "  </tbody>\n",
       "</table>\n",
       "</div>"
      ],
      "text/plain": [
       "         Product_id  Selling_Price\n",
       "0  SCHE4YSTDVPVZVXW    3261.918502\n",
       "1  ACCEGCATKHNRXUHW    1949.932263\n",
       "2  NKCE6GJ5XVJDXNNZ   11810.125083\n",
       "3  NKCEB8BK3ZXDHDHM    9368.910953\n",
       "4  TOPEFDXSAHRNPF94    5533.055919"
      ]
     },
     "execution_count": 280,
     "metadata": {},
     "output_type": "execute_result"
    }
   ],
   "source": [
    "data.head()"
   ]
  },
  {
   "cell_type": "code",
   "execution_count": 281,
   "metadata": {
    "execution": {
     "iopub.execute_input": "2020-11-17T11:54:48.839550Z",
     "iopub.status.busy": "2020-11-17T11:54:48.838792Z",
     "iopub.status.idle": "2020-11-17T11:54:49.203724Z",
     "shell.execute_reply": "2020-11-17T11:54:49.202940Z"
    },
    "papermill": {
     "duration": 0.411569,
     "end_time": "2020-11-17T11:54:49.203866",
     "exception": false,
     "start_time": "2020-11-17T11:54:48.792297",
     "status": "completed"
    },
    "tags": []
   },
   "outputs": [],
   "source": [
    "data.to_csv('output94.csv',index= False)"
   ]
  },
  {
   "cell_type": "code",
   "execution_count": 203,
   "metadata": {
    "papermill": {
     "duration": 0.042955,
     "end_time": "2020-11-17T11:54:49.289504",
     "exception": false,
     "start_time": "2020-11-17T11:54:49.246549",
     "status": "completed"
    },
    "tags": []
   },
   "outputs": [
    {
     "data": {
      "text/html": [
       "<div>\n",
       "<style scoped>\n",
       "    .dataframe tbody tr th:only-of-type {\n",
       "        vertical-align: middle;\n",
       "    }\n",
       "\n",
       "    .dataframe tbody tr th {\n",
       "        vertical-align: top;\n",
       "    }\n",
       "\n",
       "    .dataframe thead th {\n",
       "        text-align: right;\n",
       "    }\n",
       "</style>\n",
       "<table border=\"1\" class=\"dataframe\">\n",
       "  <thead>\n",
       "    <tr style=\"text-align: right;\">\n",
       "      <th></th>\n",
       "      <th>Product_id</th>\n",
       "      <th>Selling_Price</th>\n",
       "    </tr>\n",
       "  </thead>\n",
       "  <tbody>\n",
       "    <tr>\n",
       "      <th>0</th>\n",
       "      <td>SCHE4YSTDVPVZVXW</td>\n",
       "      <td>3178.292375</td>\n",
       "    </tr>\n",
       "    <tr>\n",
       "      <th>1</th>\n",
       "      <td>ACCEGCATKHNRXUHW</td>\n",
       "      <td>1946.272125</td>\n",
       "    </tr>\n",
       "    <tr>\n",
       "      <th>2</th>\n",
       "      <td>NKCE6GJ5XVJDXNNZ</td>\n",
       "      <td>12451.228848</td>\n",
       "    </tr>\n",
       "    <tr>\n",
       "      <th>3</th>\n",
       "      <td>NKCEB8BK3ZXDHDHM</td>\n",
       "      <td>8860.948096</td>\n",
       "    </tr>\n",
       "    <tr>\n",
       "      <th>4</th>\n",
       "      <td>TOPEFDXSAHRNPF94</td>\n",
       "      <td>5594.730471</td>\n",
       "    </tr>\n",
       "  </tbody>\n",
       "</table>\n",
       "</div>"
      ],
      "text/plain": [
       "         Product_id  Selling_Price\n",
       "0  SCHE4YSTDVPVZVXW    3178.292375\n",
       "1  ACCEGCATKHNRXUHW    1946.272125\n",
       "2  NKCE6GJ5XVJDXNNZ   12451.228848\n",
       "3  NKCEB8BK3ZXDHDHM    8860.948096\n",
       "4  TOPEFDXSAHRNPF94    5594.730471"
      ]
     },
     "execution_count": 203,
     "metadata": {},
     "output_type": "execute_result"
    }
   ],
   "source": [
    "data1.head()"
   ]
  },
  {
   "cell_type": "code",
   "execution_count": 142,
   "metadata": {},
   "outputs": [],
   "source": [
    "data1.to_csv('output64.csv',index= False)"
   ]
  },
  {
   "cell_type": "code",
   "execution_count": 270,
   "metadata": {},
   "outputs": [
    {
     "data": {
      "text/html": [
       "<div>\n",
       "<style scoped>\n",
       "    .dataframe tbody tr th:only-of-type {\n",
       "        vertical-align: middle;\n",
       "    }\n",
       "\n",
       "    .dataframe tbody tr th {\n",
       "        vertical-align: top;\n",
       "    }\n",
       "\n",
       "    .dataframe thead th {\n",
       "        text-align: right;\n",
       "    }\n",
       "</style>\n",
       "<table border=\"1\" class=\"dataframe\">\n",
       "  <thead>\n",
       "    <tr style=\"text-align: right;\">\n",
       "      <th></th>\n",
       "      <th>Product_id</th>\n",
       "      <th>Selling_Price</th>\n",
       "    </tr>\n",
       "  </thead>\n",
       "  <tbody>\n",
       "    <tr>\n",
       "      <th>0</th>\n",
       "      <td>SCHE4YSTDVPVZVXW</td>\n",
       "      <td>3324.297456</td>\n",
       "    </tr>\n",
       "    <tr>\n",
       "      <th>1</th>\n",
       "      <td>ACCEGCATKHNRXUHW</td>\n",
       "      <td>1834.743680</td>\n",
       "    </tr>\n",
       "    <tr>\n",
       "      <th>2</th>\n",
       "      <td>NKCE6GJ5XVJDXNNZ</td>\n",
       "      <td>11977.080192</td>\n",
       "    </tr>\n",
       "    <tr>\n",
       "      <th>3</th>\n",
       "      <td>NKCEB8BK3ZXDHDHM</td>\n",
       "      <td>8860.948096</td>\n",
       "    </tr>\n",
       "    <tr>\n",
       "      <th>4</th>\n",
       "      <td>TOPEFDXSAHRNPF94</td>\n",
       "      <td>5631.247872</td>\n",
       "    </tr>\n",
       "  </tbody>\n",
       "</table>\n",
       "</div>"
      ],
      "text/plain": [
       "         Product_id  Selling_Price\n",
       "0  SCHE4YSTDVPVZVXW    3324.297456\n",
       "1  ACCEGCATKHNRXUHW    1834.743680\n",
       "2  NKCE6GJ5XVJDXNNZ   11977.080192\n",
       "3  NKCEB8BK3ZXDHDHM    8860.948096\n",
       "4  TOPEFDXSAHRNPF94    5631.247872"
      ]
     },
     "execution_count": 270,
     "metadata": {},
     "output_type": "execute_result"
    }
   ],
   "source": [
    "data2.head()"
   ]
  },
  {
   "cell_type": "code",
   "execution_count": 271,
   "metadata": {},
   "outputs": [],
   "source": [
    "data2.to_csv('output31.csv',index= False)"
   ]
  },
  {
   "cell_type": "code",
   "execution_count": 272,
   "metadata": {},
   "outputs": [
    {
     "data": {
      "text/html": [
       "<div>\n",
       "<style scoped>\n",
       "    .dataframe tbody tr th:only-of-type {\n",
       "        vertical-align: middle;\n",
       "    }\n",
       "\n",
       "    .dataframe tbody tr th {\n",
       "        vertical-align: top;\n",
       "    }\n",
       "\n",
       "    .dataframe thead th {\n",
       "        text-align: right;\n",
       "    }\n",
       "</style>\n",
       "<table border=\"1\" class=\"dataframe\">\n",
       "  <thead>\n",
       "    <tr style=\"text-align: right;\">\n",
       "      <th></th>\n",
       "      <th>Product_id</th>\n",
       "      <th>Selling_Price</th>\n",
       "    </tr>\n",
       "  </thead>\n",
       "  <tbody>\n",
       "    <tr>\n",
       "      <th>0</th>\n",
       "      <td>SCHE4YSTDVPVZVXW</td>\n",
       "      <td>3294.607402</td>\n",
       "    </tr>\n",
       "    <tr>\n",
       "      <th>1</th>\n",
       "      <td>ACCEGCATKHNRXUHW</td>\n",
       "      <td>1945.685596</td>\n",
       "    </tr>\n",
       "    <tr>\n",
       "      <th>2</th>\n",
       "      <td>NKCE6GJ5XVJDXNNZ</td>\n",
       "      <td>11809.517680</td>\n",
       "    </tr>\n",
       "    <tr>\n",
       "      <th>3</th>\n",
       "      <td>NKCEB8BK3ZXDHDHM</td>\n",
       "      <td>9420.948528</td>\n",
       "    </tr>\n",
       "    <tr>\n",
       "      <th>4</th>\n",
       "      <td>TOPEFDXSAHRNPF94</td>\n",
       "      <td>5701.146209</td>\n",
       "    </tr>\n",
       "  </tbody>\n",
       "</table>\n",
       "</div>"
      ],
      "text/plain": [
       "         Product_id  Selling_Price\n",
       "0  SCHE4YSTDVPVZVXW    3294.607402\n",
       "1  ACCEGCATKHNRXUHW    1945.685596\n",
       "2  NKCE6GJ5XVJDXNNZ   11809.517680\n",
       "3  NKCEB8BK3ZXDHDHM    9420.948528\n",
       "4  TOPEFDXSAHRNPF94    5701.146209"
      ]
     },
     "execution_count": 272,
     "metadata": {},
     "output_type": "execute_result"
    }
   ],
   "source": [
    "data3.head()"
   ]
  },
  {
   "cell_type": "code",
   "execution_count": 273,
   "metadata": {},
   "outputs": [],
   "source": [
    "data3.to_csv('output32.csv',index = False)"
   ]
  },
  {
   "cell_type": "code",
   "execution_count": null,
   "metadata": {},
   "outputs": [],
   "source": []
  }
 ],
 "metadata": {
  "kernelspec": {
   "display_name": "Python 3",
   "language": "python",
   "name": "python3"
  },
  "language_info": {
   "codemirror_mode": {
    "name": "ipython",
    "version": 3
   },
   "file_extension": ".py",
   "mimetype": "text/x-python",
   "name": "python",
   "nbconvert_exporter": "python",
   "pygments_lexer": "ipython3",
   "version": "3.7.3"
  },
  "papermill": {
   "duration": 178.408948,
   "end_time": "2020-11-17T11:54:49.441693",
   "environment_variables": {},
   "exception": null,
   "input_path": "__notebook__.ipynb",
   "output_path": "__notebook__.ipynb",
   "parameters": {},
   "start_time": "2020-11-17T11:51:51.032745",
   "version": "2.1.0"
  }
 },
 "nbformat": 4,
 "nbformat_minor": 4
}
